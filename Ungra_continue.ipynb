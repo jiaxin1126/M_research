{
 "cells": [
  {
   "cell_type": "code",
   "execution_count": 1,
   "metadata": {},
   "outputs": [
    {
     "name": "stdout",
     "output_type": "stream",
     "text": [
      "test\n"
     ]
    }
   ],
   "source": [
    "print 'test'"
   ]
  },
  {
   "cell_type": "code",
   "execution_count": 2,
   "metadata": {},
   "outputs": [],
   "source": [
    "# find the index of subsequence in a sequence\n",
    "list1 = [2, 3, 5, 2, 5, 6, 7, 2]\n",
    "list2 = [2, 5, 6]"
   ]
  },
  {
   "cell_type": "code",
   "execution_count": 4,
   "metadata": {},
   "outputs": [],
   "source": [
    "ind = []\n",
    "for i in range(len(list1)):\n",
    "    if list1[i: i+len(list2)] == list2:\n",
    "        ind.append((i, i+len(list2)))"
   ]
  },
  {
   "cell_type": "code",
   "execution_count": 5,
   "metadata": {},
   "outputs": [
    {
     "data": {
      "text/plain": [
       "[(3, 6)]"
      ]
     },
     "execution_count": 5,
     "metadata": {},
     "output_type": "execute_result"
    }
   ],
   "source": [
    "ind"
   ]
  },
  {
   "cell_type": "code",
   "execution_count": 6,
   "metadata": {},
   "outputs": [],
   "source": [
    "# if gap"
   ]
  },
  {
   "cell_type": "code",
   "execution_count": 8,
   "metadata": {},
   "outputs": [
    {
     "name": "stdout",
     "output_type": "stream",
     "text": [
      "j: 0 i:  1\n",
      "j: 1 i:  2\n",
      "j: 1 i:  4\n",
      "j: 2 i:  5\n"
     ]
    }
   ],
   "source": [
    "# one gap\n",
    "list1 = [2, 3, 5, 2, 5, 6, 7, 2]\n",
    "list2 = [3, 5, 6]\n",
    "for j, l2 in enumerate(list2):\n",
    "    for i, l1 in enumerate(list1):\n",
    "        if l1 == l2:\n",
    "            print 'j: ' + str(j) + ' i:  ' + str(i)"
   ]
  },
  {
   "cell_type": "code",
   "execution_count": null,
   "metadata": {},
   "outputs": [],
   "source": [
    "# one gap with 'gap'  symbol '0'\n",
    "list1 = [2, 3, 5, 2, 5, 6, 7, 2]\n",
    "list2 = [3, 5, 0, 6]"
   ]
  }
 ],
 "metadata": {
  "kernelspec": {
   "display_name": "Python 2",
   "language": "python",
   "name": "python2"
  },
  "language_info": {
   "codemirror_mode": {
    "name": "ipython",
    "version": 2
   },
   "file_extension": ".py",
   "mimetype": "text/x-python",
   "name": "python",
   "nbconvert_exporter": "python",
   "pygments_lexer": "ipython2",
   "version": "2.7.15"
  }
 },
 "nbformat": 4,
 "nbformat_minor": 2
}
